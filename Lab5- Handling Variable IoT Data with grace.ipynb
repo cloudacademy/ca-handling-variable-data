{
 "cells": [
  {
   "cell_type": "markdown",
   "metadata": {},
   "source": [
    "# Lab5: Handling Variable Data with Grace"
   ]
  },
  {
   "cell_type": "markdown",
   "metadata": {},
   "source": [
    "This lab is targeted to understanding the value of NoSQL, and programatically understanding how to manage schema-less data."
   ]
  },
  {
   "cell_type": "markdown",
   "metadata": {},
   "source": [
    "### What is NoSQL?"
   ]
  },
  {
   "cell_type": "markdown",
   "metadata": {},
   "source": [
    "To understand what NoSQL is, let's quickly review what a traditional SQL database looks like. In a simple sense, SQL systems operate similar to a spreadsheet, where you have data arranged into columns, and each row is an entry. The columns are what _structure_ the data. Take a look at this example SQL relationship for an example \"Users\" table:\n",
    "\n",
    "| id (Primary Key) | username | first_name | last_name | creation_date |\n",
    "|------------------|----------|------------|-----------|---------------|\n",
    "| a3ebcedff23f0ed  | mark123  | Mark       | Douglas   | 2020-06-16    |\n",
    "| f13240dccd2391a  | wumpus   | David      | Smith     | 2020-05-22    |\n",
    "\n",
    "Each column has a very specific \"type\" that it can hold - for example, the _username_ field will always be a string, whereas _creation_ \\ _date_ will always be a date object.\n",
    "\n",
    "Now, as a thought experiment, let's consider that we wanted to expand our product, since users would like to be able to add in a link to their social media accounts. We can add, for example, a _facebook_ \\ _url_ column to our database, but for users who wish not to add this data, we will have to set this column to `NULL`. If we were only storing Facebook URLs, this is probably a sensible solution, however the user may wish to fill in their URL for their Github, Twitter, VK, etcetera. Most users will not fill out many of these, so we'd be wasting a considerable amount of space in our database by just having NULL values everywhere, and the process of adding yet another social media site to meet demand will become unfeasible. We'll see how NoSQL can address this issue.\n",
    "\n",
    "Most NoSQL systems (such as MongoDB, Google's Firestore, and especially Amazon's DynamoDB) replace the notion of a _row_ with a _document_. Each document will have an identifying value (similar to a primary key in SQL) and then, from there, any document can have any structure. This does **not** mean that NoSQL databases are unorganized messes - quite the opposite! Just because there is no set schema for a NoSQL database doesn't mean that you can't keep your data highly structured like you would in SQL.\n",
    "\n",
    "Let's model what we had in the SQL database in a NoSQL system. Amazon DynamoDB still uses the notion of a \"table\" to store documents in, so here's what the \"Users\" table might look like:\n",
    "\n",
    "![NoSQL Example 1](./assets/lab5/nosql-example-1.png)\n",
    "\n",
    "Now, let's consider the situation we were dealing with before, where we'd like to store a bunch of different social media site links for any given user. Say user `mark123` wants his Twitter and Facebook linked, but `wumpus` wants only a Github account linked. We can solve this by just adding the URLs to the respective user's document. This could look something like this:\n",
    "\n",
    "![NoSQL Example 2](./assets/lab5/nosql-example-2.png)"
   ]
  },
  {
   "cell_type": "markdown",
   "metadata": {},
   "source": [
    "### Introducing Amazon's Dynamo DB"
   ]
  },
  {
   "cell_type": "markdown",
   "metadata": {},
   "source": [
    "[According to Amazon](https://aws.amazon.com/nosql/key-value/), DynamoDB is a _key-value_ based NoSQL system, which is somewhat similar to how JSON works. Each data value (such as a username or birth day) is stored with an associated key to identify it. In DynamoDB, keys and values can really be anything you want, though keys are usually strings so you can query data based on a human-readable word. In DynamoDB, an item/document has no limit to how many attributes it has as long as the size of all of its data does not exceed 400KB. These items live inside a table, which can have as many items as you need.\n",
    "\n",
    "In the following labs, we'll be creating a Users table similar to what you've seen previously."
   ]
  },
  {
   "cell_type": "markdown",
   "metadata": {},
   "source": [
    "#### **Lab:** Setting up a DynamoDB table"
   ]
  },
  {
   "cell_type": "markdown",
   "metadata": {},
   "source": [
    "Our first task will be to create the table for our items to go in.\n",
    "1. [Navigate to the landing page for DynamoDB.](https://console.aws.amazon.com/dynamodb/home?region=us-west-2#) At the top of the page you should see a call-to-action button to create a new table.  \n",
    "![New Table Button](./assets/lab5/create-table.png)\n",
    "\n",
    "2. From here, name your table something meaningful. For the _Primary Key_ field, enter `id`. This is telling DynamoDB that the identifying characteristic about each item will be the `id` field. Once this is done, hit create.  \n",
    "![New Table Dialog](./assets/lab5/create-table-data.png)\n",
    "\n",
    "Awesome! We now have a DynamoDB table. Next, let's put in some dummy data. For example's sake, I'm going to enter in the same data as the two items used in previous examples.\n",
    "1. Once viewing your new table, click the Items tab.\n",
    "2. Click _Create item_. You should be greeted with the following dialog:  \n",
    "![New Item Dialog](./assets/lab5/create-item-dialog.png)\n",
    "\n",
    "3. Enter in a unique id for this new example user by clicking the dashed-box that says \"VALUE\" inside.\n",
    "4. Click the circle-plus button on the left side of the item. Click \"Append\", then click \"String\".\n",
    "5. Enter in `username` into the \"FIELD\" box. Then, similar to step 4, enter in the the value in the dashed-box with \"VALUE\" inside.\n",
    "6. Continue this process until you've entered in data for `id`, `username`, `firstName`, `lastName`, and `creationDate`. Your final result should look something like the following image. Don't worry if the items aren't in the same order.  \n",
    "![New Item Example](./assets/lab5/create-item-dialog-example.png)\n",
    "7. Hit \"Save\". You should now see that you have the user in your table!\n",
    "\n",
    "We will go through the process of inserting data in Python with the other user, `wumpus`.\n"
   ]
  },
  {
   "cell_type": "markdown",
   "metadata": {},
   "source": [
    "#### **Lab:** Loading Data into DynamoDB with Python"
   ]
  },
  {
   "cell_type": "markdown",
   "metadata": {},
   "source": [
    "Loading data into the database is fairly easy. Let's take a look at the code that would insert the same data as we did through the web-interface for DynamoDB.\n",
    "```py\n",
    "import boto3\n",
    "dynamo_table_name = \"my-table\"\n",
    "\n",
    "# Create a reference to our DynamoDB service\n",
    "dynamodb = boto3.resource(\"dynamodb\")\n",
    "\n",
    "# Create a reference to the table we're putting data into.\n",
    "table = dynamodb.Table(dynamo_table_name)\n",
    "\n",
    "# Create an object to store the new user's data\n",
    "newUser = {\n",
    "    \"id\": \"a3ebcedff23f0ed\",\n",
    "    \"username\": \"mark123\",\n",
    "    \"firstName\": \"Mark\",\n",
    "    \"lastName\": \"Douglas\",\n",
    "    \"creationDate\": \"2020-06-16\"\n",
    "}\n",
    "\n",
    "# Put the item into the table\n",
    "response = table.put_item(Item=newUser)\n",
    "\n",
    "# Print the response to make sure it succeeded.\n",
    "print(response)\n",
    "```\n",
    "\n",
    "Going through it step by step, we are doing the following things:\n",
    "1. Creating a reference to the DynamoDB resource\n",
    "2. Creating a reference to the DynamoDB table we would like to insert data into\n",
    "3. Creating the data that we'd like to insert\n",
    "4. Using `table.put_item()` to put that item in the table\n",
    "\n",
    "\n",
    "With this example as a guide, your job is to fill in the following code to insert the other example user into your table. Make sure you fill in the `dynamo_table_name` variable with what you called your table, as well as fill in the data for the new user in `newUser`. The ID and a dummy Facebook URL have been placed there for you. If you encountered no errors and you see a field that says `'HTTPStatusCode': 200` in the output, your data was successfully entered!"
   ]
  },
  {
   "cell_type": "code",
   "execution_count": 25,
   "metadata": {},
   "outputs": [
    {
     "data": {
      "text/plain": [
       "{'ResponseMetadata': {'RequestId': 'NJ0IVEOLADIR5C9B23LKA04SKNVV4KQNSO5AEMVJF66Q9ASUAAJG',\n",
       "  'HTTPStatusCode': 200,\n",
       "  'HTTPHeaders': {'server': 'Server',\n",
       "   'date': 'Mon, 22 Jun 2020 00:47:08 GMT',\n",
       "   'content-type': 'application/x-amz-json-1.0',\n",
       "   'content-length': '2',\n",
       "   'connection': 'keep-alive',\n",
       "   'x-amzn-requestid': 'NJ0IVEOLADIR5C9B23LKA04SKNVV4KQNSO5AEMVJF66Q9ASUAAJG',\n",
       "   'x-amz-crc32': '2745614147'},\n",
       "  'RetryAttempts': 0}}"
      ]
     },
     "execution_count": 25,
     "metadata": {},
     "output_type": "execute_result"
    }
   ],
   "source": [
    "import boto3\n",
    "\n",
    "dynamo_table_name = \"my-table\"\n",
    "\n",
    "dynamodb = boto3.resource(\"dynamodb\")\n",
    "table = dynamodb.Table(dynamo_table_name)\n",
    "\n",
    "newUser = {\n",
    "    \"id\": \"f13240dccd2391a\",\n",
    "    \"facebookUrl\": \"http://facebook.com/exampleUser\",\n",
    "    \"username\": \"\",\n",
    "    \"firstName\": \"\",\n",
    "    \"lastName\": \"\",\n",
    "    \"creationDate\": \"\"\n",
    "}\n",
    "\n",
    "# Write your put_item call here"
   ]
  },
  {
   "cell_type": "markdown",
   "metadata": {},
   "source": [
    "#### **Lab:** Querying DynamoDB Data with the UI and Python"
   ]
  },
  {
   "cell_type": "markdown",
   "metadata": {},
   "source": [
    "Putting data into the database is great, but it's not really useful unless we can get data out of it.\n",
    "There are two ways of accessing data in DynamoDB - *querying* and *scanning*. Querying is much faster than scanning, since it can only be done on fields that are guaranteed to be on each object (in technical terms, it requires a primary key or sort key). In the example that we've been building, we could query off of the `id` field, since we've told DynamoDB that every entry to our database will have an `id`. However, for members like our `facebookUrl` which _are not_ guaranteed to be present on every item, we can use scans. Scans are slower since the entire table has to be searched through and filtered upon every scan - when you have millions of entries, scans should be limited to a minimum.\n",
    "\n",
    "However, since we're just starting out with only a couple of entries, a scan will be perfect, since you can scan objects based on fields that not every item will necessarily have.\n",
    "\n",
    "Let's first do a scan on the `username` field - we'll try to access anyone whose username is \"wumpus\". We do this by telling our table to `scan()`. We can filter out items we don't want by passing in a keyword argument called `FilterExpression`. The DynamoDB library includes an object called `Attr` (short for \"attribute\") which allows us to build near-English filter requirements. Take a look at the example below:"
   ]
  },
  {
   "cell_type": "code",
   "execution_count": 18,
   "metadata": {},
   "outputs": [
    {
     "name": "stdout",
     "output_type": "stream",
     "text": [
      "{'creationDate': '2020-05-22', 'username': 'wumpus', 'id': 'f13240dccd2391a', 'firstName': 'David', 'lastName': 'Smith'}\n"
     ]
    }
   ],
   "source": [
    "import boto3\n",
    "from boto3.dynamodb.conditions import Attr\n",
    "\n",
    "dynamo_table_name = \"my-table\"\n",
    "\n",
    "dynamodb = boto3.resource(\"dynamodb\")\n",
    "table = dynamodb.Table(dynamo_table_name)\n",
    "\n",
    "# Get the items whose \"username\" attribute is equal to (.eq()) \"wumpus\"\n",
    "response = table.scan(FilterExpression=Attr(\"username\").eq(\"wumpus\"))\n",
    "\n",
    "# Iterate over the items in the response\n",
    "for item in response[\"Items\"]:\n",
    "    print(item)"
   ]
  },
  {
   "cell_type": "markdown",
   "metadata": {},
   "source": [
    "You can See that by using `Attr(\"username\").eq(\"wumpus\")`, we filtered out any user whose username wasn't equal to \"wumpus\".\n",
    "\n",
    "Now, using the above code as an example, write a scan where it will only return users whose `facebookUrl` is equal to the `facebook_url` variable provided in the code snippet.\n",
    "\n",
    "To print out the items that were returned from the query, use the `for` loop from the code snippet above."
   ]
  },
  {
   "cell_type": "code",
   "execution_count": 29,
   "metadata": {},
   "outputs": [
    {
     "name": "stdout",
     "output_type": "stream",
     "text": [
      "{'creationDate': '', 'username': '', 'id': 'f13240dccd2391a', 'facebookUrl': 'http://facebook.com/exampleUser', 'firstName': '', 'lastName': ''}\n"
     ]
    }
   ],
   "source": [
    "import boto3\n",
    "from boto3.dynamodb.conditions import Attr\n",
    "\n",
    "dynamo_table_name = \"my-table\"\n",
    "facebook_url = \"http://facebook.com/exampleUser\"\n",
    "\n",
    "dynamodb = boto3.resource(\"dynamodb\")\n",
    "table = dynamodb.Table(dynamo_table_name)\n",
    "\n",
    "# Write your code here!"
   ]
  },
  {
   "cell_type": "markdown",
   "metadata": {},
   "source": [
    "With this, you can now put and get data from DynamoDB. You're well on your way to harnessing the abilities that DynamoDB (and other NoSQL systems) can offer to your next project."
   ]
  },
  {
   "cell_type": "code",
   "execution_count": null,
   "metadata": {},
   "outputs": [],
   "source": []
  }
 ],
 "metadata": {
  "kernelspec": {
   "display_name": "conda_python3",
   "language": "python",
   "name": "conda_python3"
  },
  "language_info": {
   "codemirror_mode": {
    "name": "ipython",
    "version": 3
   },
   "file_extension": ".py",
   "mimetype": "text/x-python",
   "name": "python",
   "nbconvert_exporter": "python",
   "pygments_lexer": "ipython3",
   "version": "3.6.5"
  }
 },
 "nbformat": 4,
 "nbformat_minor": 4
}